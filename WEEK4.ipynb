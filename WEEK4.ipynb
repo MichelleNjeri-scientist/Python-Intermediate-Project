{
 "cells": [
  {
   "cell_type": "markdown",
   "id": "71670560-e357-4e89-85a5-0abf4b0edd74",
   "metadata": {},
   "source": [
    "# Week 4 Assignment"
   ]
  },
  {
   "cell_type": "markdown",
   "id": "67c7407c-ebf3-4202-81d9-87b13412553d",
   "metadata": {},
   "source": [
    "# QN: Write a Python program to check whether a string is a palindrome or not using a stack.\n",
    "PS: Pay attention to the specified data structure.\n",
    "\n",
    "Answer\n",
    "A palindrome is a sequence of characters that reads the same backward as forward.A string is said to be a palindrome if the reverse of the string is the same as the string.The code below check whether a sring is a palidrome or not using stack.\n",
    "Code: \n",
    "def is_palindrome(p):\n",
    "    stack = []\n",
    "    \n",
    "   #Push all characters to stack\n",
    "    for char in p:\n",
    "        stack.append(char)\n",
    "    \n",
    "    #Pop characters from  stack and compare with the original string\n",
    "    for char in p:\n",
    "        if char != stack.pop():\n",
    "            return False\n",
    "    \n",
    "    return True\n"
   ]
  },
  {
   "cell_type": "code",
   "execution_count": 5,
   "id": "9cb53102-b2f2-4de4-9815-91bbfacbd5a3",
   "metadata": {},
   "outputs": [
    {
     "name": "stdout",
     "output_type": "stream",
     "text": [
      "level is a palindrome: True\n",
      "bootcamp is a palindrome: False\n"
     ]
    }
   ],
   "source": [
    "#Example\n",
    "string = \"level\"\n",
    "print(f\"{string} is a palindrome: {is_palindrome(string)}\")  # Output: True\n",
    "\n",
    "string = \"bootcamp\"\n",
    "print(f\"{string} is a palindrome: {is_palindrome(string)}\")  # Output: False"
   ]
  },
  {
   "cell_type": "markdown",
   "id": "382ae57b-735c-41f1-8661-f724657d5071",
   "metadata": {},
   "source": [
    "# QN: Explain the concept of list comprehension in Python with at least three examples.\n",
    "List comprehension offers a concise way to create a new list based on the values of an existing list.The syntax o is a single line of code that you write inside the square brackets. It has three components:For loop, Condition and expression.The four examples are listed below.\n"
   ]
  },
  {
   "cell_type": "code",
   "execution_count": 27,
   "id": "e3d4d683-2b1f-4ff9-8370-f6e3417293a7",
   "metadata": {},
   "outputs": [
    {
     "name": "stdout",
     "output_type": "stream",
     "text": [
      "1\n",
      "2\n",
      "3\n",
      "4\n",
      "5\n",
      "6\n",
      "7\n",
      "8\n",
      "9\n",
      "10\n"
     ]
    }
   ],
   "source": [
    "# Simple List Compression example\n",
    "lst = [1,2,3,4,5,6,7,8,9,10]\n",
    "# simple list comprehension\n",
    "for x in lst:\n",
    "    a.append(x)\n",
    "    print (x)"
   ]
  },
  {
   "cell_type": "code",
   "execution_count": 29,
   "id": "536aba7f-2aa5-4f4e-8a7b-0fdac23a05e9",
   "metadata": {},
   "outputs": [
    {
     "name": "stdout",
     "output_type": "stream",
     "text": [
      "6\n",
      "8\n",
      "10\n"
     ]
    }
   ],
   "source": [
    "# List Comprehension with Single and Nested If Condition example\n",
    "lst = [1,2,3,4,5,6,7,8,9,10]\n",
    "# with if condition\n",
    "for x in lst:\n",
    "    if x > 4:\n",
    "        if x % 2 == 0:\n",
    "            a.append(x)\n",
    "            print (x)"
   ]
  },
  {
   "cell_type": "code",
   "execution_count": 51,
   "id": "a9f511e5-5736-422d-98bf-98ec83a2fdda",
   "metadata": {},
   "outputs": [
    {
     "name": "stdout",
     "output_type": "stream",
     "text": [
      "['not 2 & 3', 'Two', 'Three', 'Two', 'not 2 & 3', 'Two', 'not 2 & 3', 'Two', 'Three', 'Two']\n"
     ]
    }
   ],
   "source": [
    "# List Comprehension with Single and Multiple If and Else Conditions example\n",
    "lst = [1, 2, 3, 4, 5, 6, 7, 8, 9, 10]\n",
    "f = ['Two' if x % 2 == 0 else 'Three' if x % 3 == 0 else 'not 2 & 3' for x in lst]\n",
    "print(f)"
   ]
  },
  {
   "cell_type": "code",
   "execution_count": 59,
   "id": "92b19ae2-9c3e-42d8-b866-5c58b538fd11",
   "metadata": {},
   "outputs": [
    {
     "name": "stdout",
     "output_type": "stream",
     "text": [
      "1 3\n",
      "1 2\n",
      "1 1\n",
      "2 3\n",
      "2 2\n",
      "2 1\n",
      "3 3\n",
      "3 2\n",
      "3 1\n"
     ]
    }
   ],
   "source": [
    "# List Comprehension with a Nested For Loop\n",
    "lst = [1,2,3]\n",
    "lst_rev = [3,2,1]\n",
    "for x in lst:\n",
    "    for y in lst_rev:\n",
    "        f.append((x,y))\n",
    "        print(x,y)\n",
    "       \n"
   ]
  },
  {
   "cell_type": "markdown",
   "id": "d513a9c6-a3aa-4075-8a45-573e00d6aad8",
   "metadata": {},
   "source": [
    "## QN:  Explain what a compound datatype is in Python with three examples.\n",
    "These are data types that can store a large number of values. In Python, there are various types of compound data structures namely: Lists, Sets, Tuples and Dictionaries."
   ]
  },
  {
   "cell_type": "code",
   "execution_count": 72,
   "id": "2a9e5c88-7fea-4918-9c14-7d6caf763ded",
   "metadata": {},
   "outputs": [
    {
     "name": "stdout",
     "output_type": "stream",
     "text": [
      "['Michelle', 29, 'Female', 'Computer Science', 3.0]\n"
     ]
    }
   ],
   "source": [
    "#  list - is an ordered sequence that is mutable and can hold several object types such as integer, character, or float.It a list of values separated by commas enclosed in square brackets[].\n",
    "# Example:\n",
    "input_list = [\"Michelle\", 29, \"Female\", \"Computer Science\", 3.0]\n",
    "print(input_list)\n"
   ]
  },
  {
   "cell_type": "code",
   "execution_count": 74,
   "id": "fb4391c8-c4d5-47b9-bb63-b7a766b78b4b",
   "metadata": {},
   "outputs": [
    {
     "name": "stdout",
     "output_type": "stream",
     "text": [
      "(1, 4, 8, 6, 2)\n"
     ]
    }
   ],
   "source": [
    "# Tuple - an immutable sequence data type that can contain elements of various data types.Tuples are faster than lists since they are static in nature.Tuples are denoted by parenthesis ().\n",
    "# Example:\n",
    "input_Tuple = (1, 4, 8, 6, 2)\n",
    "print(input_Tuple)"
   ]
  },
  {
   "cell_type": "code",
   "execution_count": 76,
   "id": "240eb2cb-4a0f-490a-8fba-c566572fab53",
   "metadata": {},
   "outputs": [
    {
     "name": "stdout",
     "output_type": "stream",
     "text": [
      "{'name': 'Michelle', 'age': 29, 'profession': 'Data Scientist'}\n"
     ]
    }
   ],
   "source": [
    "# Dictionary - an unordered collection of key-value pairs. Each key-value pair maps the key to its associated value.They defined using curly braces {}, with each key-value pair separated by a colon : and pairs separated by commas.\n",
    "#Example:\n",
    "my_dict = {\"name\": \"Michelle\", \"age\": 29, \"profession\": \"Data Scientist\"}\n",
    "print(my_dict)\n"
   ]
  },
  {
   "cell_type": "code",
   "execution_count": 78,
   "id": "b4295953-38c8-4e76-bb9c-dd119bc502ca",
   "metadata": {},
   "outputs": [
    {
     "name": "stdout",
     "output_type": "stream",
     "text": [
      "{1, 2, 3, 4, 5}\n",
      "{'cherry', 'banana', 'apple'}\n"
     ]
    }
   ],
   "source": [
    "# Set-  an unordered collection data type that is iterable, mutable, and has no duplicate elements. \n",
    "# Example:\n",
    "my_set = {1, 2, 3, 4, 5}\n",
    "# Creating a set using the set() function\n",
    "my_other_set = set([\"apple\", \"banana\", \"cherry\", \"apple\"])\n",
    "\n",
    "print(my_set)\n",
    "print(my_other_set)\n"
   ]
  },
  {
   "cell_type": "markdown",
   "id": "f5a2b560-cdaa-411e-bd7a-3c34d506d40f",
   "metadata": {},
   "source": [
    "## QN: Write a function that takes a string and returns a list of bigrams.\n",
    "A bigram or digram is a sequence of two adjacent elements from a string of tokens, which are typically letters, syllables, or words.The frequency distribution of every bigram in a string is commonly used for simple statistical analysis of text in many applications, including in computational linguistics, cryptography, speech recognition, and so on.Find the function below\n",
    "In the example below we use: zip() + split() + list comprehension"
   ]
  },
  {
   "cell_type": "code",
   "execution_count": 80,
   "id": "5b63ca18-2252-4c85-a612-c34d3e5dd922",
   "metadata": {},
   "outputs": [
    {
     "name": "stdout",
     "output_type": "stream",
     "text": [
      "The original list is : ['Michelle is a Scientist', 'She loves data']\n",
      "The formed bigrams are : [('Michelle', 'is'), ('is', 'a'), ('a', 'Scientist'), ('She', 'loves'), ('loves', 'data')]\n"
     ]
    }
   ],
   "source": [
    "# initializing list \n",
    "test_list = ['Michelle is a Scientist', 'She loves data']\n",
    "\n",
    "# printing the original list \n",
    "print (\"The original list is : \" + str(test_list))\n",
    "\n",
    "# using zip() + split() + list comprehension\n",
    "# for Bigram formation\n",
    "res = [i for j in test_list \n",
    "\tfor i in zip(j.split(\" \")[:-1], j.split(\" \")[1:])]\n",
    "\n",
    "# printing result\n",
    "print (\"The formed bigrams are : \" + str(res))\n"
   ]
  },
  {
   "cell_type": "markdown",
   "id": "6550b367-5c6b-4a87-a95d-266992e4cb9e",
   "metadata": {},
   "source": [
    "## QN: Given a dictionary with keys as letters and values as lists of letters, write a function closest_key to find the key with the input value closest to the beginning of the list."
   ]
  },
  {
   "cell_type": "code",
   "execution_count": 82,
   "id": "9fd724ee-c487-4f4f-900d-ba11808b70f7",
   "metadata": {},
   "outputs": [
    {
     "name": "stdout",
     "output_type": "stream",
     "text": [
      "B\n"
     ]
    }
   ],
   "source": [
    "def closest_key(input_dict, target_value):\n",
    "    # Initialize variables to keep track of the closest key and smallest index found\n",
    "    closest_key = None\n",
    "    smallest_index = float('inf')  \n",
    "    \n",
    "    # Iterate over each key-value pair in the dictionary\n",
    "    for key, value_list in input_dict.items():\n",
    "        # Check if the target value is in the current list\n",
    "        if target_value in value_list:\n",
    "            # Find the index of the target value in the list\n",
    "            current_index = value_list.index(target_value)\n",
    "            \n",
    "            # If the current index is smaller than the smallest index found so far\n",
    "            if current_index < smallest_index:\n",
    "                # Update the closest key and smallest index\n",
    "                closest_key = key\n",
    "                smallest_index = current_index\n",
    "                \n",
    "    return closest_key\n",
    "\n",
    "# Example usage\n",
    "input_dict = {\n",
    "    'A': ['x', 'y', 'z'],\n",
    "    'B': ['a', 'b', 'c', 'd'],\n",
    "    'C': ['b', 'a', 'e', 'f']\n",
    "}\n",
    "\n",
    "target_value = 'a'\n",
    "result = closest_key(input_dict, target_value)\n",
    "print(result)  "
   ]
  },
  {
   "cell_type": "code",
   "execution_count": null,
   "id": "16cd7952-2dc0-4f6a-bfdf-8ff47c8bb033",
   "metadata": {},
   "outputs": [],
   "source": []
  }
 ],
 "metadata": {
  "kernelspec": {
   "display_name": "Python 3 (ipykernel)",
   "language": "python",
   "name": "python3"
  },
  "language_info": {
   "codemirror_mode": {
    "name": "ipython",
    "version": 3
   },
   "file_extension": ".py",
   "mimetype": "text/x-python",
   "name": "python",
   "nbconvert_exporter": "python",
   "pygments_lexer": "ipython3",
   "version": "3.12.4"
  }
 },
 "nbformat": 4,
 "nbformat_minor": 5
}
